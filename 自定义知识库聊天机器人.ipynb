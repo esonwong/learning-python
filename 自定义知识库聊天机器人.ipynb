{
  "cells": [
    {
      "attachments": {},
      "cell_type": "markdown",
      "metadata": {
        "colab_type": "text",
        "id": "view-in-github"
      },
      "source": [
        "<a href=\"https://colab.research.google.com/github/esonwong/learning-python/blob/main/%E8%87%AA%E5%AE%9A%E4%B9%89%E7%9F%A5%E8%AF%86%E5%BA%93%E8%81%8A%E5%A4%A9%E6%9C%BA%E5%99%A8%E4%BA%BA.ipynb\" target=\"_parent\"><img src=\"https://colab.research.google.com/assets/colab-badge.svg\" alt=\"Open In Colab\"/></a>"
      ]
    },
    {
      "attachments": {},
      "cell_type": "markdown",
      "metadata": {
        "id": "q6FTkBlCgiaS"
      },
      "source": [
        "# 简介\n",
        "你只需要按照这份教程一步一步操作，即可实现一个「自定义知识库的聊天机器人」。 本教程的使用方法很简单，你只需要点击代码前的播放按钮即可。"
      ]
    },
    {
      "attachments": {},
      "cell_type": "markdown",
      "metadata": {
        "id": "PyZRSxu15luG"
      },
      "source": [
        "## 安装依赖库\n",
        "\n",
        "点击下方代码前的播放按钮即可，这一步主要是安装好后续程序依赖的库。"
      ]
    },
    {
      "cell_type": "code",
      "execution_count": null,
      "metadata": {
        "colab": {
          "base_uri": "https://localhost:8080/"
        },
        "id": "RrlM5y9p53ET",
        "outputId": "01f20973-3110-456c-fcbd-c9db6b38ca04"
      },
      "outputs": [],
      "source": [
        "!pip3 install llama-index\n",
        "!pip3 install ipywidgets"
      ]
    },
    {
      "attachments": {},
      "cell_type": "markdown",
      "metadata": {},
      "source": [
        "## 引入模块"
      ]
    },
    {
      "cell_type": "code",
      "execution_count": null,
      "metadata": {},
      "outputs": [],
      "source": [
        "import ipywidgets as widgets\n",
        "import os\n",
        "from llama_index import GPTVectorStoreIndex, SimpleDirectoryReader, StorageContext, load_index_from_storage\n",
        "from IPython.display import Markdown, display"
      ]
    },
    {
      "attachments": {},
      "cell_type": "markdown",
      "metadata": {
        "id": "x1eo2yzVoMHi"
      },
      "source": [
        "## 导入个人知识库数据\n",
        "\n",
        "1. 左侧文件夹菜单中新建 `data` 文件夹。\n",
        "\n",
        "2. 上传知识库文件到文件夹内。"
      ]
    },
    {
      "attachments": {},
      "cell_type": "markdown",
      "metadata": {
        "id": "gJLtujqg6mjG"
      },
      "source": [
        "## 设置 OpenAI API Key\n",
        "\n",
        "点击代码前的播放按钮，运行代码后，在框内输入你的个人 OpenAI API Key，黏贴完记得按下回车键。"
      ]
    },
    {
      "cell_type": "code",
      "execution_count": null,
      "metadata": {
        "colab": {
          "base_uri": "https://localhost:8080/"
        },
        "id": "6NI-7ooZ6116",
        "outputId": "81a69b5a-22d5-460b-bc0b-b993bcba0751"
      },
      "outputs": [],
      "source": [
        "os.environ[\"OPENAI_API_KEY\"] = input(\"将你的 OpenAI API Key 黏贴到这里：\")"
      ]
    },
    {
      "attachments": {},
      "cell_type": "markdown",
      "metadata": {
        "id": "WaI1QBqv57a0"
      },
      "source": [
        "## 构建索引 \n",
        "下面用 OpenAI 的 embedding API 来构建索引，这个 API 可以将文本转换为向量，这样就可以通过计算向量的相似度来判断两个文本主义上的相似度。然后把这些文本交给 GPT 来生成答案。"
      ]
    },
    {
      "cell_type": "code",
      "execution_count": null,
      "metadata": {
        "id": "F_LAX5XV56sY"
      },
      "outputs": [],
      "source": [
        "documents = SimpleDirectoryReader('data').load_data()\n",
        "index = GPTVectorStoreIndex.from_documents(documents)\n",
        "index.storage_context.persist()"
      ]
    },
    {
      "attachments": {},
      "cell_type": "markdown",
      "metadata": {
        "id": "xrjoWNip-K6J"
      },
      "source": [
        "## 加载向量索引 index.json"
      ]
    },
    {
      "cell_type": "code",
      "execution_count": null,
      "metadata": {
        "colab": {
          "base_uri": "https://localhost:8080/",
          "height": 460
        },
        "id": "qIoAWYKQFukQ",
        "outputId": "20d6433f-6fa2-4604-e955-d9000e5eb6ac"
      },
      "outputs": [],
      "source": [
        "storage_context = StorageContext.from_defaults(persist_dir='./storage')\n",
        "index = load_index_from_storage(storage_context)"
      ]
    },
    {
      "attachments": {},
      "cell_type": "markdown",
      "metadata": {},
      "source": [
        "## 输入问题\n",
        "\n",
        "执行下面的代码显示输入框。"
      ]
    },
    {
      "cell_type": "code",
      "execution_count": null,
      "metadata": {},
      "outputs": [],
      "source": [
        "textarea = widgets.Textarea(\n",
        "    value='### Question\\n我的产品折断了。',\n",
        "    placeholder='Type something',\n",
        "    description='String:',\n",
        "    disabled=False,\n",
        "    layout=widgets.Layout(width='80%', height='200px')\n",
        ")\n",
        "display(textarea)"
      ]
    },
    {
      "attachments": {},
      "cell_type": "markdown",
      "metadata": {},
      "source": [
        "## 查询问题\n",
        "\n",
        "点击执行按钮查询生成回答。"
      ]
    },
    {
      "cell_type": "code",
      "execution_count": null,
      "metadata": {},
      "outputs": [],
      "source": [
        "query = textarea.value\n",
        "query_engine = index.as_query_engine()\n",
        "response = query_engine.query(query)\n",
        "display(Markdown(response.response))"
      ]
    }
  ],
  "metadata": {
    "colab": {
      "provenance": []
    },
    "kernelspec": {
      "display_name": "Python 3",
      "name": "python3"
    },
    "language_info": {
      "codemirror_mode": {
        "name": "ipython",
        "version": 3
      },
      "file_extension": ".py",
      "mimetype": "text/x-python",
      "name": "python",
      "nbconvert_exporter": "python",
      "pygments_lexer": "ipython3",
      "version": "3.11.3"
    }
  },
  "nbformat": 4,
  "nbformat_minor": 0
}
