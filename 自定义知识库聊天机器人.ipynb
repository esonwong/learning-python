{
  "cells": [
    {
      "cell_type": "markdown",
      "metadata": {
        "id": "q6FTkBlCgiaS"
      },
      "source": [
        "# 简介\n",
        "你只需要按照这份教程一步一步操作，即可实现一个「自定义知识库的聊天机器人」。 本教程的使用方法很简单，你只需要点击代码前的播放按钮即可。"
      ]
    },
    {
      "cell_type": "markdown",
      "metadata": {
        "id": "PyZRSxu15luG"
      },
      "source": [
        "# 安装依赖库\n",
        "\n",
        "点击下方代码前的播放按钮即可，这一步主要是安装好后续程序依赖的库。"
      ]
    },
    {
      "cell_type": "code",
      "execution_count": null,
      "metadata": {
        "colab": {
          "base_uri": "https://localhost:8080/"
        },
        "id": "RrlM5y9p53ET",
        "outputId": "01f20973-3110-456c-fcbd-c9db6b38ca04"
      },
      "outputs": [],
      "source": [
        "!pip install gpt-index\n",
        "!pip install langchain\n",
        "!pip install transformers"
      ]
    },
    {
      "cell_type": "markdown",
      "metadata": {
        "id": "x1eo2yzVoMHi"
      },
      "source": [
        "# 导入个人知识库数据\n",
        "\n",
        "1. 左侧文件夹菜单中新建 `data` 文件夹。\n",
        "\n",
        "2. 上传知识库文件到文件夹内。"
      ]
    },
    {
      "cell_type": "markdown",
      "metadata": {
        "id": "gJLtujqg6mjG"
      },
      "source": [
        "# 设置 OpenAI API Key\n",
        "\n",
        "点击代码前的播放按钮，运行代码后，在框内输入你的个人 OpenAI API Key，黏贴完记得按下回车键。如何生成 API Key 请见[教程]()。"
      ]
    },
    {
      "cell_type": "code",
      "execution_count": null,
      "metadata": {
        "colab": {
          "base_uri": "https://localhost:8080/"
        },
        "id": "6NI-7ooZ6116",
        "outputId": "81a69b5a-22d5-460b-bc0b-b993bcba0751"
      },
      "outputs": [],
      "source": [
        "import os\n",
        "os.environ[\"OPENAI_API_KEY\"] = input(\"将你的 OpenAI API Key 黏贴到这里：\")"
      ]
    },
    {
      "attachments": {},
      "cell_type": "markdown",
      "metadata": {
        "id": "WaI1QBqv57a0"
      },
      "source": [
        "# 定义函数\n",
        "\n",
        "## 构建索引 \n",
        "`construct_index(path)`\n",
        "\n",
        "这个方法用 OpenAI 的 embedding API 来构建索引，这个 API 可以将文本转换为向量，这样就可以通过计算向量的相似度来判断两个文本的相似度。\n",
        "\n",
        "\n",
        "## 查询索引函数 \n",
        "\n",
        "`ask_ai()`\n",
        "\n",
        "这个方法用来查询索引，输入问题，返回答案。"
      ]
    },
    {
      "cell_type": "code",
      "execution_count": null,
      "metadata": {
        "id": "F_LAX5XV56sY"
      },
      "outputs": [],
      "source": [
        "from gpt_index import SimpleDirectoryReader, GPTListIndex, readers, GPTSimpleVectorIndex, LLMPredictor, PromptHelper\n",
        "from langchain import OpenAI\n",
        "import sys\n",
        "from IPython.display import Markdown, display\n",
        "\n",
        "def construct_index(directory_path):\n",
        "    # set maximum input size\n",
        "    max_input_size = 4096\n",
        "    # set number of output tokens\n",
        "    num_outputs = 300\n",
        "    # set maximum chunk overlap\n",
        "    max_chunk_overlap = 20\n",
        "    # set chunk size limit\n",
        "    chunk_size_limit = 600 \n",
        "\n",
        "    # define LLM\n",
        "    llm_predictor = LLMPredictor(llm=OpenAI(temperature=0.5, model_name=\"text-davinci-003\", max_tokens=num_outputs))\n",
        "    prompt_helper = PromptHelper(max_input_size, num_outputs, max_chunk_overlap, chunk_size_limit=chunk_size_limit)\n",
        " \n",
        "    documents = SimpleDirectoryReader(directory_path).load_data()\n",
        "    \n",
        "    index = GPTSimpleVectorIndex(\n",
        "        documents, llm_predictor=llm_predictor, prompt_helper=prompt_helper\n",
        "    )\n",
        "\n",
        "    index.save_to_disk('index.json')\n",
        "\n",
        "    return index\n",
        "\n",
        "def ask_ai():\n",
        "    index = GPTSimpleVectorIndex.load_from_disk('index.json')\n",
        "    while True: \n",
        "        query = input(\"请输入你的提问：\")\n",
        "        response = index.query(query, response_mode=\"default\")\n",
        "        display(Markdown(f\"Response: <b>{response.response}</b>\"))"
      ]
    },
    {
      "attachments": {},
      "cell_type": "markdown",
      "metadata": {
        "id": "AhoOq59J68xx"
      },
      "source": [
        "# 构建索引\n",
        "这一步程序会将第一步导入的数据都跑一遍，并使用 OpenAI 的 embedings API 去生成向量数据索引"
      ]
    },
    {
      "cell_type": "code",
      "execution_count": null,
      "metadata": {
        "colab": {
          "base_uri": "https://localhost:8080/"
        },
        "id": "t7ZRPw5S74cf",
        "outputId": "5f910fc0-fae0-4ff9-d386-48b5b8ad9c50"
      },
      "outputs": [],
      "source": [
        "construct_index('data')"
      ]
    },
    {
      "attachments": {},
      "cell_type": "markdown",
      "metadata": {
        "id": "xrjoWNip-K6J"
      },
      "source": [
        "# 提问\n",
        "\n",
        "这一步你就可以试试提问了\n",
        "\n",
        "- Viberate 的范围是多少？\n",
        "- Pump 的最大值是多少？"
      ]
    },
    {
      "cell_type": "code",
      "execution_count": null,
      "metadata": {
        "colab": {
          "base_uri": "https://localhost:8080/",
          "height": 460
        },
        "id": "qIoAWYKQFukQ",
        "outputId": "20d6433f-6fa2-4604-e955-d9000e5eb6ac"
      },
      "outputs": [],
      "source": [
        "ask_ai()"
      ]
    }
  ],
  "metadata": {
    "colab": {
      "provenance": []
    },
    "kernelspec": {
      "display_name": "Python 3",
      "name": "python3"
    },
    "language_info": {
      "name": "python"
    }
  },
  "nbformat": 4,
  "nbformat_minor": 0
}
