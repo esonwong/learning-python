{
  "nbformat": 4,
  "nbformat_minor": 0,
  "metadata": {
    "colab": {
      "provenance": [],
      "include_colab_link": true
    },
    "kernelspec": {
      "name": "python3",
      "display_name": "Python 3"
    },
    "language_info": {
      "name": "python"
    }
  },
  "cells": [
    {
      "cell_type": "markdown",
      "metadata": {
        "id": "view-in-github",
        "colab_type": "text"
      },
      "source": [
        "<a href=\"https://colab.research.google.com/github/esonwong/learning-python/blob/main/%E8%87%AA%E5%AE%9A%E4%B9%89%E7%9F%A5%E8%AF%86%E5%BA%93%E8%81%8A%E5%A4%A9%E6%9C%BA%E5%99%A8%E4%BA%BA.ipynb\" target=\"_parent\"><img src=\"https://colab.research.google.com/assets/colab-badge.svg\" alt=\"Open In Colab\"/></a>"
      ]
    },
    {
      "cell_type": "markdown",
      "source": [
        "# 简介\n",
        "你只需要按照这份教程一步一步操作，即可实现一个「自定义知识库的聊天机器人」。 本教程的使用方法很简单，你只需要点击代码前的播放按钮即可。\n",
        "\n",
        "如果遇到问题，可以再看看这篇使用教程。\n"
      ],
      "metadata": {
        "id": "q6FTkBlCgiaS"
      }
    },
    {
      "cell_type": "markdown",
      "source": [
        "# 导入个人知识库数据\n",
        "\n",
        "导入的方法有两种：\n",
        "\n",
        "1. 导入在线数据：导入 Github 数据是个相对简答的方式。如果你是第一次使用，我建议你先用这个方法试试。点击下方代码前的播放按钮，就会运行这段代码。运行完成后，会导入我写的几份 newsletter。如果你也想像我那样导入数据，只需要修改 clone 后面的链接地址即可。\n",
        "2. 导入离线数据：详情请见[教程]()。"
      ],
      "metadata": {
        "id": "x1eo2yzVoMHi"
      }
    },
    {
      "cell_type": "code",
      "source": [
        "! git clone https://github.com/thinkingjimmy/Jimmy-Newsletter-Corpus.git"
      ],
      "metadata": {
        "id": "mCXAtKkn5Xa3"
      },
      "execution_count": null,
      "outputs": []
    },
    {
      "cell_type": "markdown",
      "source": [
        "# 安装依赖库\n",
        "\n",
        "点击下方代码前的播放按钮即可，这一步主要是安装好后续程序依赖的库。"
      ],
      "metadata": {
        "id": "PyZRSxu15luG"
      }
    },
    {
      "cell_type": "code",
      "source": [
        "!pip install gpt-index\n",
        "!pip install langchain\n",
        "!pip install transformers"
      ],
      "metadata": {
        "id": "RrlM5y9p53ET"
      },
      "execution_count": null,
      "outputs": []
    },
    {
      "cell_type": "markdown",
      "source": [
        "# 定义函数\n",
        "以下代码定义了构建索引和查询索引所需的函数。"
      ],
      "metadata": {
        "id": "WaI1QBqv57a0"
      }
    },
    {
      "cell_type": "code",
      "source": [
        "from gpt_index import SimpleDirectoryReader, GPTListIndex, readers, GPTSimpleVectorIndex, LLMPredictor, PromptHelper\n",
        "from langchain import OpenAI\n",
        "import sys\n",
        "import os\n",
        "from IPython.display import Markdown, display\n",
        "\n",
        "def construct_index(directory_path):\n",
        "    # set maximum input size\n",
        "    max_input_size = 4096\n",
        "    # set number of output tokens\n",
        "    num_outputs = 300\n",
        "    # set maximum chunk overlap\n",
        "    max_chunk_overlap = 20\n",
        "    # set chunk size limit\n",
        "    chunk_size_limit = 600 \n",
        "\n",
        "    # define LLM\n",
        "    llm_predictor = LLMPredictor(llm=OpenAI(temperature=0.5, model_name=\"text-davinci-003\", max_tokens=num_outputs))\n",
        "    prompt_helper = PromptHelper(max_input_size, num_outputs, max_chunk_overlap, chunk_size_limit=chunk_size_limit)\n",
        " \n",
        "    documents = SimpleDirectoryReader(directory_path).load_data()\n",
        "    \n",
        "    index = GPTSimpleVectorIndex(\n",
        "        documents, llm_predictor=llm_predictor, prompt_helper=prompt_helper\n",
        "    )\n",
        "\n",
        "    index.save_to_disk('index.json')\n",
        "\n",
        "    return index\n",
        "\n",
        "def ask_ai():\n",
        "    index = GPTSimpleVectorIndex.load_from_disk('index.json')\n",
        "    while True: \n",
        "        query = input(\"请输入你的提问：\")\n",
        "        response = index.query(query, response_mode=\"compact\")\n",
        "        display(Markdown(f\"Response: <b>{response.response}</b>\"))"
      ],
      "metadata": {
        "id": "F_LAX5XV56sY"
      },
      "execution_count": null,
      "outputs": []
    },
    {
      "cell_type": "markdown",
      "source": [
        "# 设置 OpenAI API Key\n",
        "\n",
        "点击代码前的播放按钮，运行代码后，在框内输入你的个人 OpenAI API Key，黏贴完记得按下回车键。如何生成 API Key 请见[教程]()。"
      ],
      "metadata": {
        "id": "gJLtujqg6mjG"
      }
    },
    {
      "cell_type": "code",
      "source": [
        "os.environ[\"OPENAI_API_KEY\"] = input(\"将你的 OpenAI API Key 黏贴到这里：\")"
      ],
      "metadata": {
        "id": "6NI-7ooZ6116"
      },
      "execution_count": null,
      "outputs": []
    },
    {
      "cell_type": "markdown",
      "source": [
        "# 构建索引\n",
        "这一步程序会将第一步导入的数据都跑一遍，并使用 OpenAI 的 embedings API。如果第一步你上传了自己的数据，只需要将 ' ' 里的 Jimmy-Newsletter-Corpus 修改为你上传的文件夹名称即可。\n",
        "\n",
        "**注意：**\n",
        "\n",
        "- 这一步会耗费你的 OpenAI 的 Credit，1000 个 token 的价格是 $0.02，运行以下代码前需要注意你的账号里是否还有钱。\n",
        "- 如果你用的 OpenAI 账号是个免费账号，你有可能会遇到频率警告，此时可以等一等再运行下方代码（另外你的导入的知识库数据太多，也会触发）。解除这个限制，最好的方式是在你的 OpenAI 账号的 Billing 页面里绑定信用卡。如何绑卡，需要各位自行搜索。\n",
        "\n"
      ],
      "metadata": {
        "id": "AhoOq59J68xx"
      }
    },
    {
      "cell_type": "code",
      "source": [
        "construct_index('Jimmy-Newsletter-Corpus')"
      ],
      "metadata": {
        "id": "t7ZRPw5S74cf"
      },
      "execution_count": null,
      "outputs": []
    },
    {
      "cell_type": "markdown",
      "source": [
        "# 提问\n",
        "\n",
        "这一步你就可以试试提问了，如果你在第一步导入的是我预设的数据，你可以试试问以下问题：\n",
        "- Issue 90 主要讲了什么什么内容？\n",
        "- 推荐一本跟 Issue 90 里提到的书类似的书\n",
        "\n",
        "如果你导入的是自己的资料，也可以问以下几个类型的问题：\n",
        "- 总结\n",
        "- 提问\n",
        "- 信息提取\n",
        "\n",
        "关于如何提问，可以看看我的另一份教程:[Learning Prompt](https://learningprompt.wiki/)。"
      ],
      "metadata": {
        "id": "xrjoWNip-K6J"
      }
    },
    {
      "cell_type": "code",
      "source": [
        "ask_ai()"
      ],
      "metadata": {
        "id": "qIoAWYKQFukQ"
      },
      "execution_count": null,
      "outputs": []
    }
  ]
}